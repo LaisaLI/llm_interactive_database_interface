{
 "cells": [
  {
   "cell_type": "code",
   "execution_count": 5,
   "metadata": {
    "id": "LULjeTGL817b",
    "tags": []
   },
   "outputs": [],
   "source": [
    "import pandas as pd\n",
    "import numpy as np\n",
    "from datetime import datetime, timedelta\n",
    "# Set a random seed for reproducibility\n",
    "np.random.seed(42)"
   ]
  },
  {
   "cell_type": "code",
   "execution_count": 9,
   "metadata": {
    "tags": []
   },
   "outputs": [],
   "source": [
    "# Function to generate random datetime objects\n",
    "def random_date(start_date, end_date):\n",
    "    delta = end_date - start_date\n",
    "    random_days = np.random.randint(0, delta.days)\n",
    "    random_hours = np.random.randint(0, 23)\n",
    "    random_minutes = np.random.randint(0, 59)\n",
    "    \n",
    "    random_date = start_date + timedelta(days=random_days, hours=random_hours, minutes=random_minutes)\n",
    "    return random_date"
   ]
  },
  {
   "cell_type": "code",
   "execution_count": 13,
   "metadata": {
    "colab": {
     "base_uri": "https://localhost:8080/",
     "height": 206
    },
    "id": "m7oYQomB-DnJ",
    "outputId": "6d98ef9e-9af0-433c-9b18-ce9e39bae1e4",
    "tags": []
   },
   "outputs": [
    {
     "data": {
      "text/html": [
       "<div>\n",
       "<style scoped>\n",
       "    .dataframe tbody tr th:only-of-type {\n",
       "        vertical-align: middle;\n",
       "    }\n",
       "\n",
       "    .dataframe tbody tr th {\n",
       "        vertical-align: top;\n",
       "    }\n",
       "\n",
       "    .dataframe thead th {\n",
       "        text-align: right;\n",
       "    }\n",
       "</style>\n",
       "<table border=\"1\" class=\"dataframe\">\n",
       "  <thead>\n",
       "    <tr style=\"text-align: right;\">\n",
       "      <th></th>\n",
       "      <th>user_id</th>\n",
       "      <th>user_name</th>\n",
       "      <th>created</th>\n",
       "      <th>age</th>\n",
       "      <th>country</th>\n",
       "    </tr>\n",
       "  </thead>\n",
       "  <tbody>\n",
       "    <tr>\n",
       "      <th>0</th>\n",
       "      <td>1</td>\n",
       "      <td>User_1</td>\n",
       "      <td>2023-10-14 08:49:00</td>\n",
       "      <td>57</td>\n",
       "      <td>USA</td>\n",
       "    </tr>\n",
       "    <tr>\n",
       "      <th>1</th>\n",
       "      <td>2</td>\n",
       "      <td>User_2</td>\n",
       "      <td>2021-12-16 07:07:00</td>\n",
       "      <td>41</td>\n",
       "      <td>France</td>\n",
       "    </tr>\n",
       "    <tr>\n",
       "      <th>2</th>\n",
       "      <td>3</td>\n",
       "      <td>User_3</td>\n",
       "      <td>2023-09-03 19:46:00</td>\n",
       "      <td>20</td>\n",
       "      <td>Germany</td>\n",
       "    </tr>\n",
       "    <tr>\n",
       "      <th>3</th>\n",
       "      <td>4</td>\n",
       "      <td>User_4</td>\n",
       "      <td>2020-09-07 06:10:00</td>\n",
       "      <td>39</td>\n",
       "      <td>USA</td>\n",
       "    </tr>\n",
       "    <tr>\n",
       "      <th>4</th>\n",
       "      <td>5</td>\n",
       "      <td>User_5</td>\n",
       "      <td>2023-01-12 15:03:00</td>\n",
       "      <td>19</td>\n",
       "      <td>Germany</td>\n",
       "    </tr>\n",
       "  </tbody>\n",
       "</table>\n",
       "</div>"
      ],
      "text/plain": [
       "   user_id user_name             created  age  country\n",
       "0        1    User_1 2023-10-14 08:49:00   57      USA\n",
       "1        2    User_2 2021-12-16 07:07:00   41   France\n",
       "2        3    User_3 2023-09-03 19:46:00   20  Germany\n",
       "3        4    User_4 2020-09-07 06:10:00   39      USA\n",
       "4        5    User_5 2023-01-12 15:03:00   19  Germany"
      ]
     },
     "execution_count": 13,
     "metadata": {},
     "output_type": "execute_result"
    }
   ],
   "source": [
    "# Create User attribute table\n",
    "num_users = 1000\n",
    "user_ids = np.arange(1, num_users + 1)\n",
    "user_names = [\"User_\" + str(i) for i in user_ids]\n",
    "ages = np.random.randint(18, 70, size=num_users)\n",
    "countries = np.random.choice(['USA', 'Canada', 'UK', 'Germany', 'France', 'Japan'], num_users)\n",
    "\n",
    "\n",
    "\n",
    "# Define start and end date range\n",
    "start_date = datetime(2020, 1, 1)\n",
    "end_date = datetime(2024, 4, 1)\n",
    "\n",
    "# Generate a list of random datetime objects\n",
    "random_datetime_list = [random_date(start_date, end_date) for _ in range(num_users)]\n",
    "\n",
    "users_df = pd.DataFrame({\n",
    "    'user_id': user_ids,\n",
    "    'user_name': user_names,\n",
    "    'created': random_datetime_list,\n",
    "    'age': ages,\n",
    "    'country': countries\n",
    "})\n",
    "users_df.head()"
   ]
  },
  {
   "cell_type": "code",
   "execution_count": 15,
   "metadata": {
    "tags": []
   },
   "outputs": [
    {
     "data": {
      "text/plain": [
       "(1000, 5)"
      ]
     },
     "execution_count": 15,
     "metadata": {},
     "output_type": "execute_result"
    }
   ],
   "source": [
    "users_df.shape"
   ]
  },
  {
   "cell_type": "code",
   "execution_count": 14,
   "metadata": {
    "tags": []
   },
   "outputs": [
    {
     "name": "stderr",
     "output_type": "stream",
     "text": [
      "/var/tmp/ipykernel_896203/2946341841.py:1: FutureWarning: to_gbq is deprecated and will be removed in a future version. Please use pandas_gbq.to_gbq instead: https://pandas-gbq.readthedocs.io/en/latest/api.html#pandas_gbq.to_gbq\n",
      "  users_df.to_gbq(\"mercari-ml-crm-jp-dev.z_yilin.llm_query_experiment_users\", if_exists='replace')\n",
      "100%|██████████| 1/1 [00:00<00:00, 13400.33it/s]\n"
     ]
    }
   ],
   "source": [
    "users_df.to_gbq(\"mercari-ml-crm-jp-dev.z_yilin.llm_query_experiment_users\", if_exists='replace')"
   ]
  },
  {
   "cell_type": "code",
   "execution_count": 16,
   "metadata": {
    "colab": {
     "base_uri": "https://localhost:8080/",
     "height": 206
    },
    "id": "UnjslpaM-TcL",
    "outputId": "295f19ad-e130-4d47-b9aa-5c5ab39acef9",
    "tags": []
   },
   "outputs": [
    {
     "data": {
      "text/html": [
       "<div>\n",
       "<style scoped>\n",
       "    .dataframe tbody tr th:only-of-type {\n",
       "        vertical-align: middle;\n",
       "    }\n",
       "\n",
       "    .dataframe tbody tr th {\n",
       "        vertical-align: top;\n",
       "    }\n",
       "\n",
       "    .dataframe thead th {\n",
       "        text-align: right;\n",
       "    }\n",
       "</style>\n",
       "<table border=\"1\" class=\"dataframe\">\n",
       "  <thead>\n",
       "    <tr style=\"text-align: right;\">\n",
       "      <th></th>\n",
       "      <th>item_id</th>\n",
       "      <th>item_name</th>\n",
       "      <th>price</th>\n",
       "      <th>category</th>\n",
       "      <th>created</th>\n",
       "    </tr>\n",
       "  </thead>\n",
       "  <tbody>\n",
       "    <tr>\n",
       "      <th>0</th>\n",
       "      <td>1</td>\n",
       "      <td>Item_1</td>\n",
       "      <td>524.46</td>\n",
       "      <td>Fashion</td>\n",
       "      <td>2023-04-06 15:37:00</td>\n",
       "    </tr>\n",
       "    <tr>\n",
       "      <th>1</th>\n",
       "      <td>2</td>\n",
       "      <td>Item_2</td>\n",
       "      <td>795.71</td>\n",
       "      <td>Fashion</td>\n",
       "      <td>2023-09-28 21:21:00</td>\n",
       "    </tr>\n",
       "    <tr>\n",
       "      <th>2</th>\n",
       "      <td>3</td>\n",
       "      <td>Item_3</td>\n",
       "      <td>885.06</td>\n",
       "      <td>Fashion</td>\n",
       "      <td>2021-06-11 15:34:00</td>\n",
       "    </tr>\n",
       "    <tr>\n",
       "      <th>3</th>\n",
       "      <td>4</td>\n",
       "      <td>Item_4</td>\n",
       "      <td>348.70</td>\n",
       "      <td>Electronics</td>\n",
       "      <td>2021-03-19 12:45:00</td>\n",
       "    </tr>\n",
       "    <tr>\n",
       "      <th>4</th>\n",
       "      <td>5</td>\n",
       "      <td>Item_5</td>\n",
       "      <td>465.06</td>\n",
       "      <td>Books</td>\n",
       "      <td>2022-04-19 11:54:00</td>\n",
       "    </tr>\n",
       "  </tbody>\n",
       "</table>\n",
       "</div>"
      ],
      "text/plain": [
       "   item_id item_name   price     category             created\n",
       "0        1    Item_1  524.46      Fashion 2023-04-06 15:37:00\n",
       "1        2    Item_2  795.71      Fashion 2023-09-28 21:21:00\n",
       "2        3    Item_3  885.06      Fashion 2021-06-11 15:34:00\n",
       "3        4    Item_4  348.70  Electronics 2021-03-19 12:45:00\n",
       "4        5    Item_5  465.06        Books 2022-04-19 11:54:00"
      ]
     },
     "execution_count": 16,
     "metadata": {},
     "output_type": "execute_result"
    }
   ],
   "source": [
    "# Create Item attribute table\n",
    "num_items = 700\n",
    "item_ids = np.arange(1, num_items + 1)\n",
    "item_names = [\"Item_\" + str(i) for i in item_ids]\n",
    "prices = np.round(np.random.uniform(5.99, 999.99, size=num_items), 2)\n",
    "categories = np.random.choice(['Electronics', 'Fashion', 'Home', 'Toys', 'Books'], num_items)\n",
    "\n",
    "# Define start and end date range\n",
    "start_date = datetime(2020, 1, 1)\n",
    "end_date = datetime(2024, 4, 1)\n",
    "\n",
    "# Generate a list of random datetime objects\n",
    "created_list = [random_date(start_date, end_date) for _ in range(num_items)]\n",
    "\n",
    "items_df = pd.DataFrame({\n",
    "    'item_id': item_ids,\n",
    "    'item_name': item_names,\n",
    "    'price': prices,\n",
    "    'category': categories,\n",
    "    'created': created_list\n",
    "})\n",
    "items_df.head()"
   ]
  },
  {
   "cell_type": "code",
   "execution_count": 35,
   "metadata": {
    "tags": []
   },
   "outputs": [
    {
     "name": "stderr",
     "output_type": "stream",
     "text": [
      "/var/tmp/ipykernel_896203/2540333328.py:1: FutureWarning: to_gbq is deprecated and will be removed in a future version. Please use pandas_gbq.to_gbq instead: https://pandas-gbq.readthedocs.io/en/latest/api.html#pandas_gbq.to_gbq\n",
      "  items_df.to_gbq(\"mercari-ml-crm-jp-dev.z_yilin.llm_query_experiment_items\", if_exists='replace')\n",
      "100%|██████████| 1/1 [00:00<00:00, 11428.62it/s]\n"
     ]
    }
   ],
   "source": [
    "items_df.to_gbq(\"mercari-ml-crm-jp-dev.z_yilin.llm_query_experiment_items\", if_exists='replace')"
   ]
  },
  {
   "cell_type": "code",
   "execution_count": 19,
   "metadata": {
    "colab": {
     "base_uri": "https://localhost:8080/",
     "height": 206
    },
    "id": "ZbIDuaAO-VWm",
    "outputId": "e8f99f77-668b-4645-c3ed-43ea2c0161ca",
    "tags": []
   },
   "outputs": [
    {
     "data": {
      "text/html": [
       "<div>\n",
       "<style scoped>\n",
       "    .dataframe tbody tr th:only-of-type {\n",
       "        vertical-align: middle;\n",
       "    }\n",
       "\n",
       "    .dataframe tbody tr th {\n",
       "        vertical-align: top;\n",
       "    }\n",
       "\n",
       "    .dataframe thead th {\n",
       "        text-align: right;\n",
       "    }\n",
       "</style>\n",
       "<table border=\"1\" class=\"dataframe\">\n",
       "  <thead>\n",
       "    <tr style=\"text-align: right;\">\n",
       "      <th></th>\n",
       "      <th>transaction_id</th>\n",
       "      <th>user_id</th>\n",
       "      <th>item_id</th>\n",
       "      <th>quantity</th>\n",
       "    </tr>\n",
       "  </thead>\n",
       "  <tbody>\n",
       "    <tr>\n",
       "      <th>0</th>\n",
       "      <td>1</td>\n",
       "      <td>100</td>\n",
       "      <td>256</td>\n",
       "      <td>1</td>\n",
       "    </tr>\n",
       "    <tr>\n",
       "      <th>1</th>\n",
       "      <td>2</td>\n",
       "      <td>658</td>\n",
       "      <td>172</td>\n",
       "      <td>4</td>\n",
       "    </tr>\n",
       "    <tr>\n",
       "      <th>2</th>\n",
       "      <td>3</td>\n",
       "      <td>9</td>\n",
       "      <td>649</td>\n",
       "      <td>3</td>\n",
       "    </tr>\n",
       "    <tr>\n",
       "      <th>3</th>\n",
       "      <td>4</td>\n",
       "      <td>574</td>\n",
       "      <td>498</td>\n",
       "      <td>4</td>\n",
       "    </tr>\n",
       "    <tr>\n",
       "      <th>4</th>\n",
       "      <td>5</td>\n",
       "      <td>697</td>\n",
       "      <td>471</td>\n",
       "      <td>4</td>\n",
       "    </tr>\n",
       "  </tbody>\n",
       "</table>\n",
       "</div>"
      ],
      "text/plain": [
       "   transaction_id  user_id  item_id  quantity\n",
       "0               1      100      256         1\n",
       "1               2      658      172         4\n",
       "2               3        9      649         3\n",
       "3               4      574      498         4\n",
       "4               5      697      471         4"
      ]
     },
     "execution_count": 19,
     "metadata": {},
     "output_type": "execute_result"
    }
   ],
   "source": [
    "# Create Transaction table\n",
    "num_transactions = 500\n",
    "assert num_transactions < num_items\n",
    "transaction_ids = np.arange(1, num_transactions + 1)\n",
    "buyer_ids = np.random.choice(user_ids, num_transactions)\n",
    "purchased_item_ids = np.random.choice(item_ids, num_transactions)\n",
    "quantities = np.random.randint(1, 5, size=num_transactions)\n",
    "dates = np.random.choice(\n",
    "    pd.date_range(start='2023-01-01', periods=365, freq='D'),\n",
    "    num_transactions\n",
    "  )\n",
    "\n",
    "\n",
    "transactions_df = pd.DataFrame({\n",
    "    'transaction_id': transaction_ids,\n",
    "    'user_id': buyer_ids,\n",
    "    'item_id': purchased_item_ids,\n",
    "    'quantity': quantities,\n",
    "    # 'date': dates\n",
    "})\n",
    "transactions_df.head()"
   ]
  },
  {
   "cell_type": "code",
   "execution_count": 38,
   "metadata": {
    "tags": []
   },
   "outputs": [
    {
     "data": {
      "text/plain": [
       "370"
      ]
     },
     "execution_count": 38,
     "metadata": {},
     "output_type": "execute_result"
    }
   ],
   "source": [
    "transactions_df.item_id.nunique()"
   ]
  },
  {
   "cell_type": "code",
   "execution_count": 22,
   "metadata": {
    "tags": []
   },
   "outputs": [],
   "source": [
    "random_interval_list = [\n",
    "    created + timedelta(days=np.random.randint(0, 30), hours=np.random.randint(0, 23), minutes=np.random.randint(0, 59))\n",
    "    for created in created_list \n",
    "]"
   ]
  },
  {
   "cell_type": "code",
   "execution_count": 30,
   "metadata": {
    "tags": []
   },
   "outputs": [],
   "source": [
    "df_item_sold = pd.DataFrame({\"item_id\": item_ids, \"sold_time\": random_interval_list})"
   ]
  },
  {
   "cell_type": "code",
   "execution_count": 43,
   "metadata": {
    "tags": []
   },
   "outputs": [],
   "source": [
    "transactions_df = pd.merge(transactions_df, items_df[['item_id', 'created']], on='item_id', how='left')"
   ]
  },
  {
   "cell_type": "code",
   "execution_count": 46,
   "metadata": {
    "tags": []
   },
   "outputs": [],
   "source": [
    "transactions_df['sold_time'] = transactions_df.created.apply(lambda x: x+timedelta(\n",
    "                days=np.random.randint(0, 30),\n",
    "                hours=np.random.randint(0, 23),\n",
    "                minutes=np.random.randint(0, 59)\n",
    "            ) \n",
    ")\n",
    "transactions_df = transactions_df.drop('created', axis=1)"
   ]
  },
  {
   "cell_type": "code",
   "execution_count": 47,
   "metadata": {
    "tags": []
   },
   "outputs": [
    {
     "data": {
      "text/plain": [
       "transaction_id    0\n",
       "user_id           0\n",
       "item_id           0\n",
       "quantity          0\n",
       "sold_time         0\n",
       "dtype: int64"
      ]
     },
     "execution_count": 47,
     "metadata": {},
     "output_type": "execute_result"
    }
   ],
   "source": [
    "transactions_df.isna().sum()"
   ]
  },
  {
   "cell_type": "code",
   "execution_count": 48,
   "metadata": {
    "tags": []
   },
   "outputs": [
    {
     "name": "stderr",
     "output_type": "stream",
     "text": [
      "/var/tmp/ipykernel_896203/1140261479.py:1: FutureWarning: to_gbq is deprecated and will be removed in a future version. Please use pandas_gbq.to_gbq instead: https://pandas-gbq.readthedocs.io/en/latest/api.html#pandas_gbq.to_gbq\n",
      "  transactions_df.to_gbq(\"mercari-ml-crm-jp-dev.z_yilin.llm_query_experiment_transactions\", if_exists='replace')\n",
      "100%|██████████| 1/1 [00:00<00:00, 13189.64it/s]\n"
     ]
    }
   ],
   "source": [
    "transactions_df.to_gbq(\"mercari-ml-crm-jp-dev.z_yilin.llm_query_experiment_transactions\", if_exists='replace')"
   ]
  },
  {
   "cell_type": "code",
   "execution_count": 49,
   "metadata": {
    "colab": {
     "base_uri": "https://localhost:8080/",
     "height": 206
    },
    "id": "Ov3J04j9-XKv",
    "outputId": "7a26b0b4-a4b5-4e22-8c5b-293e6e349581",
    "tags": []
   },
   "outputs": [
    {
     "name": "stderr",
     "output_type": "stream",
     "text": [
      "/var/tmp/ipykernel_896203/572532659.py:7: FutureWarning: 'H' is deprecated and will be removed in a future version, please use 'h' instead.\n",
      "  pd.date_range(start='2023-01-01', periods=365*24, freq='H'),\n"
     ]
    },
    {
     "data": {
      "text/html": [
       "<div>\n",
       "<style scoped>\n",
       "    .dataframe tbody tr th:only-of-type {\n",
       "        vertical-align: middle;\n",
       "    }\n",
       "\n",
       "    .dataframe tbody tr th {\n",
       "        vertical-align: top;\n",
       "    }\n",
       "\n",
       "    .dataframe thead th {\n",
       "        text-align: right;\n",
       "    }\n",
       "</style>\n",
       "<table border=\"1\" class=\"dataframe\">\n",
       "  <thead>\n",
       "    <tr style=\"text-align: right;\">\n",
       "      <th></th>\n",
       "      <th>event_id</th>\n",
       "      <th>event_type</th>\n",
       "      <th>user_id</th>\n",
       "      <th>item_id</th>\n",
       "      <th>event_time</th>\n",
       "    </tr>\n",
       "  </thead>\n",
       "  <tbody>\n",
       "    <tr>\n",
       "      <th>0</th>\n",
       "      <td>1</td>\n",
       "      <td>item view</td>\n",
       "      <td>302</td>\n",
       "      <td>680</td>\n",
       "      <td>2023-06-18 01:00:00</td>\n",
       "    </tr>\n",
       "    <tr>\n",
       "      <th>1</th>\n",
       "      <td>2</td>\n",
       "      <td>item view</td>\n",
       "      <td>964</td>\n",
       "      <td>181</td>\n",
       "      <td>2023-10-07 04:00:00</td>\n",
       "    </tr>\n",
       "    <tr>\n",
       "      <th>2</th>\n",
       "      <td>3</td>\n",
       "      <td>item view</td>\n",
       "      <td>516</td>\n",
       "      <td>130</td>\n",
       "      <td>2023-06-21 09:00:00</td>\n",
       "    </tr>\n",
       "    <tr>\n",
       "      <th>3</th>\n",
       "      <td>4</td>\n",
       "      <td>app start</td>\n",
       "      <td>734</td>\n",
       "      <td>149</td>\n",
       "      <td>2023-09-30 18:00:00</td>\n",
       "    </tr>\n",
       "    <tr>\n",
       "      <th>4</th>\n",
       "      <td>5</td>\n",
       "      <td>item like</td>\n",
       "      <td>962</td>\n",
       "      <td>472</td>\n",
       "      <td>2023-12-16 20:00:00</td>\n",
       "    </tr>\n",
       "  </tbody>\n",
       "</table>\n",
       "</div>"
      ],
      "text/plain": [
       "   event_id event_type  user_id  item_id          event_time\n",
       "0         1  item view      302      680 2023-06-18 01:00:00\n",
       "1         2  item view      964      181 2023-10-07 04:00:00\n",
       "2         3  item view      516      130 2023-06-21 09:00:00\n",
       "3         4  app start      734      149 2023-09-30 18:00:00\n",
       "4         5  item like      962      472 2023-12-16 20:00:00"
      ]
     },
     "execution_count": 49,
     "metadata": {},
     "output_type": "execute_result"
    }
   ],
   "source": [
    "# Create User event log table\n",
    "num_events = 1500\n",
    "event_types = np.random.choice(['app start', 'item view', 'item like'], num_events)\n",
    "log_user_ids = np.random.choice(user_ids, num_events)\n",
    "log_item_ids = np.random.choice(item_ids, num_events)\n",
    "event_times = np.random.choice(\n",
    "    pd.date_range(start='2023-01-01', periods=365*24, freq='H'),\n",
    "    num_events\n",
    "  )\n",
    "\n",
    "event_log_df = pd.DataFrame({\n",
    "    'event_id': np.arange(1, num_events + 1),\n",
    "    'event_type': event_types,\n",
    "    'user_id': log_user_ids,\n",
    "    'item_id': log_item_ids,\n",
    "    'event_time': event_times\n",
    "})\n",
    "event_log_df.head()"
   ]
  },
  {
   "cell_type": "code",
   "execution_count": 50,
   "metadata": {
    "tags": []
   },
   "outputs": [
    {
     "name": "stderr",
     "output_type": "stream",
     "text": [
      "/var/tmp/ipykernel_896203/1164434606.py:1: FutureWarning: to_gbq is deprecated and will be removed in a future version. Please use pandas_gbq.to_gbq instead: https://pandas-gbq.readthedocs.io/en/latest/api.html#pandas_gbq.to_gbq\n",
      "  event_log_df.to_gbq(\"mercari-ml-crm-jp-dev.z_yilin.llm_query_experiment_event_logs\", if_exists='replace')\n",
      "100%|██████████| 1/1 [00:00<00:00, 13934.56it/s]\n"
     ]
    }
   ],
   "source": [
    "event_log_df.to_gbq(\"mercari-ml-crm-jp-dev.z_yilin.llm_query_experiment_event_logs\", if_exists='replace')"
   ]
  },
  {
   "cell_type": "code",
   "execution_count": null,
   "metadata": {
    "id": "jQiGlVjZ-kGc"
   },
   "outputs": [],
   "source": [
    "# # Save to CSV\n",
    "# users_df.to_csv('user_attributes.csv', index=False)\n",
    "# items_df.to_csv('item_attributes.csv', index=False)\n",
    "# transactions_df.to_csv('transactions.csv', index=False)\n",
    "# event_log_df.to_csv('event_logs.csv', index=False)"
   ]
  },
  {
   "cell_type": "code",
   "execution_count": 52,
   "metadata": {
    "colab": {
     "base_uri": "https://localhost:8080/"
    },
    "id": "hMRbZ728-e2C",
    "outputId": "d864439f-a0da-4e23-8f9d-d5c1a000d28a",
    "tags": []
   },
   "outputs": [
    {
     "name": "stdout",
     "output_type": "stream",
     "text": [
      "Data generation completed and saved to BQ dataset: mercari-ml-crm-jp-dev.z_yilin.\n"
     ]
    }
   ],
   "source": [
    "print(\"Data generation completed and saved to BQ dataset: mercari-ml-crm-jp-dev.z_yilin.\")"
   ]
  },
  {
   "cell_type": "code",
   "execution_count": null,
   "metadata": {
    "id": "ZiixrnHn-c8M"
   },
   "outputs": [],
   "source": []
  },
  {
   "cell_type": "code",
   "execution_count": null,
   "metadata": {
    "id": "56XPQ7jB9-g6"
   },
   "outputs": [],
   "source": []
  }
 ],
 "metadata": {
  "colab": {
   "provenance": []
  },
  "environment": {
   "kernel": "conda-root-py",
   "name": "workbench-notebooks.m119",
   "type": "gcloud",
   "uri": "us-docker.pkg.dev/deeplearning-platform-release/gcr.io/workbench-notebooks:m119"
  },
  "kernelspec": {
   "display_name": "Python 3 (ipykernel) (Local)",
   "language": "python",
   "name": "conda-root-py"
  },
  "language_info": {
   "codemirror_mode": {
    "name": "ipython",
    "version": 3
   },
   "file_extension": ".py",
   "mimetype": "text/x-python",
   "name": "python",
   "nbconvert_exporter": "python",
   "pygments_lexer": "ipython3",
   "version": "3.10.14"
  }
 },
 "nbformat": 4,
 "nbformat_minor": 4
}
